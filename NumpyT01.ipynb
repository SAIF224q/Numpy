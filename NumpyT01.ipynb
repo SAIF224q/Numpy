{
  "nbformat": 4,
  "nbformat_minor": 0,
  "metadata": {
    "colab": {
      "provenance": []
    },
    "kernelspec": {
      "name": "python3",
      "display_name": "Python 3"
    },
    "language_info": {
      "name": "python"
    }
  },
  "cells": [
    {
      "cell_type": "code",
      "execution_count": null,
      "metadata": {
        "id": "0O8WCHl_SoIm",
        "colab": {
          "base_uri": "https://localhost:8080/"
        },
        "outputId": "ee689b7f-8b04-418c-d9c1-d9954287e6f3"
      },
      "outputs": [
        {
          "output_type": "stream",
          "name": "stdout",
          "text": [
            "Requirement already satisfied: numpy in /usr/local/lib/python3.12/dist-packages (2.0.2)\n"
          ]
        }
      ],
      "source": [
        "pip install numpy"
      ]
    },
    {
      "cell_type": "code",
      "source": [
        "import numpy as np\n"
      ],
      "metadata": {
        "id": "BPgznpPTU1ui"
      },
      "execution_count": null,
      "outputs": []
    },
    {
      "cell_type": "code",
      "source": [
        "print(np.__version__)"
      ],
      "metadata": {
        "id": "LhTCp2CZU94v"
      },
      "execution_count": null,
      "outputs": []
    },
    {
      "cell_type": "markdown",
      "source": [
        "Creating an array\n",
        "1D and 2D"
      ],
      "metadata": {
        "id": "vnKs9zfCVuOR"
      }
    },
    {
      "cell_type": "code",
      "source": [
        "arr1D = np.array([1,2])\n",
        "arr2D = np.array([[1,2],[3,4]])\n",
        "print(arr1D)\n",
        "print(arr2D)"
      ],
      "metadata": {
        "id": "FEXpDG3wV0uY"
      },
      "execution_count": null,
      "outputs": []
    },
    {
      "cell_type": "markdown",
      "source": [
        "\"We can pass a list, tuple or any array-like object into the array() method, and it will be converted into an ndarray.\""
      ],
      "metadata": {
        "id": "5pl6krIlWPdx"
      }
    },
    {
      "cell_type": "markdown",
      "source": [
        "Example 1: Passing a List"
      ],
      "metadata": {
        "id": "N9MJvjM3XNL-"
      }
    },
    {
      "cell_type": "code",
      "source": [
        "my_list = [1, 2, 3, 4]\n",
        "arr_from_list = np.array(my_list)\n",
        "\n",
        "print(\"From list:\", arr_from_list)\n",
        "print(\"Type:\", type(arr_from_list))"
      ],
      "metadata": {
        "id": "HPRYezgFXPIn"
      },
      "execution_count": null,
      "outputs": []
    },
    {
      "cell_type": "markdown",
      "source": [
        "Example 2: Passing a Tuple"
      ],
      "metadata": {
        "id": "ryZI7UiYXWLj"
      }
    },
    {
      "cell_type": "code",
      "source": [
        "my_tuple = (5, 6, 7, 8)\n",
        "arr_from_tuple = np.array(my_tuple)\n",
        "\n",
        "print(\"From tuple:\", arr_from_tuple)\n",
        "print(\"Type:\", type(arr_from_tuple))"
      ],
      "metadata": {
        "id": "34Tj5MRdXag6"
      },
      "execution_count": null,
      "outputs": []
    },
    {
      "cell_type": "markdown",
      "source": [
        "Example 3: Passing a List of Lists (2D array-like)"
      ],
      "metadata": {
        "id": "9lqxlvibXeo6"
      }
    },
    {
      "cell_type": "code",
      "source": [
        "list_of_lists = [[1, 2, 3], [4, 5, 6]]\n",
        "arr_2d = np.array(list_of_lists)\n",
        "\n",
        "print(\"2D Array:\\n\", arr_2d)\n",
        "print(\"Shape:\", arr_2d.shape)\n",
        "print(\"Type:\", type(arr_2d))"
      ],
      "metadata": {
        "id": "49gmn_pGXkJN"
      },
      "execution_count": null,
      "outputs": []
    },
    {
      "cell_type": "markdown",
      "source": [
        "Nested Tuples (Mixed Structures)"
      ],
      "metadata": {
        "id": "dCQW2j7FXm70"
      }
    },
    {
      "cell_type": "code",
      "source": [
        "nested_tuple = ((1, 2), (3, 4), (5, 6))\n",
        "arr_from_nested = np.array(nested_tuple)\n",
        "\n",
        "print(\"From nested tuple:\\n\", arr_from_nested)\n",
        "print(\"Type:\", type(arr_from_nested))"
      ],
      "metadata": {
        "id": "O43Z4396XwmC"
      },
      "execution_count": null,
      "outputs": []
    },
    {
      "cell_type": "markdown",
      "source": [
        "Array-like Objects (e.g., range())"
      ],
      "metadata": {
        "id": "HIPESLAnXy41"
      }
    },
    {
      "cell_type": "code",
      "source": [
        "range_obj = range(5)\n",
        "arr_from_range = np.array(range_obj)\n",
        "\n",
        "print(\"From range:\", arr_from_range)\n",
        "# Output: [0 1 2 3 4]"
      ],
      "metadata": {
        "id": "HFoEjrnzX3AW"
      },
      "execution_count": null,
      "outputs": []
    },
    {
      "cell_type": "markdown",
      "source": [
        "np.arange() method can be used to replace np.array(range()) method"
      ],
      "metadata": {
        "id": "T3AVO3WKaB0x"
      }
    },
    {
      "cell_type": "code",
      "source": [
        "arrRange = np.arange(0,10,2)\n",
        "print(arrRange)"
      ],
      "metadata": {
        "id": "QYAAFAhPaDP1"
      },
      "execution_count": null,
      "outputs": []
    },
    {
      "cell_type": "markdown",
      "source": [
        "Create an array of random values of given shape\n",
        "np.random.rand() method returns values in the range [0,1)"
      ],
      "metadata": {
        "id": "14tZWC4Ge4dw"
      }
    },
    {
      "cell_type": "code",
      "source": [
        "arrayRand = np.random.rand(2,3)\n",
        "print(arrayRand)\n",
        "#This creates an array with random values of size 2 X 3"
      ],
      "metadata": {
        "id": "8mBs2d7be5nm"
      },
      "execution_count": null,
      "outputs": []
    },
    {
      "cell_type": "markdown",
      "source": [
        "Create an array of zeros of given shape\n",
        "To create an array of zeros for a given shape n,p\n",
        "use np.zeros(): create array of all zeros in given shape"
      ],
      "metadata": {
        "id": "kf-eDuA_fy_I"
      }
    },
    {
      "cell_type": "code",
      "source": [
        "arr_zeros = np.zeros((2,3))\n",
        "print(arr_zeros)\n",
        "#This will create an array of zeros of size 2 X 3"
      ],
      "metadata": {
        "id": "vytV1Mnxf-X-"
      },
      "execution_count": null,
      "outputs": []
    },
    {
      "cell_type": "markdown",
      "source": [
        "create array of all zeros with the same shape and data type as the given input array. `numpy.zeros_like()` is a NumPy function that returns an array of zeros with the same shape and data type as a given input array. This function is particularly useful for creating new arrays for calculations or initialization that need to match the dimensions and data type of an existing array without manually specifying these attributes."
      ],
      "metadata": {
        "id": "0bPHF3tAhNxk"
      }
    },
    {
      "cell_type": "markdown",
      "source": [
        "An ndarray filled with zeros, having the same shape and data type as the input array a (or as specified by dtype and shape overrides)."
      ],
      "metadata": {
        "id": "4jyCQ1Mohpjg"
      }
    },
    {
      "cell_type": "code",
      "source": [
        "# Create an example array\n",
        "original_array = np.array([[1, 2, 3], [4, 5, 6]])\n",
        "\n",
        "# Create a new array of zeros with the same shape and type\n",
        "zeros_array = np.zeros_like(original_array)\n",
        "\n",
        "print(original_array)\n",
        "print(zeros_array)"
      ],
      "metadata": {
        "id": "riSBO01HhcTl"
      },
      "execution_count": null,
      "outputs": []
    },
    {
      "cell_type": "markdown",
      "source": [
        "# Indexing\n",
        "In NumPy, arrays are the core data structure, and indexing is a powerful way to access and manipulate array elements."
      ],
      "metadata": {
        "id": "08yCshOPP7u2"
      }
    },
    {
      "cell_type": "markdown",
      "source": [
        "1D Arrays: Access elements using their index."
      ],
      "metadata": {
        "id": "zh0AShoLQF03"
      }
    },
    {
      "cell_type": "code",
      "source": [
        "arr = np.array([10, 20, 30, 40, 50])\n",
        "print(arr[0])  # Output: 10\n",
        "print(arr[2])  # Output: 30"
      ],
      "metadata": {
        "id": "XB_QMvRMQHOC"
      },
      "execution_count": null,
      "outputs": []
    },
    {
      "cell_type": "markdown",
      "source": [
        "For 2D or higher-dimensional arrays, use comma-separated indices for each dimension."
      ],
      "metadata": {
        "id": "RJEbThSRQLa-"
      }
    },
    {
      "cell_type": "code",
      "source": [
        "arr_2D = np.array([[1, 2, 3], [4, 5, 6], [7, 8, 9]])\n",
        "print(arr_2D[0, 1])  # Output: 2 (Row 0, Column 1)\n",
        "print(arr_2D[2, 0])  # Output: 7 (Row 2, Column 0)"
      ],
      "metadata": {
        "id": "iNBVdKliQSF2"
      },
      "execution_count": null,
      "outputs": []
    },
    {
      "cell_type": "markdown",
      "source": [
        "Negative Indexing: Access elements from the end."
      ],
      "metadata": {
        "id": "p1ajBzUoQfaV"
      }
    },
    {
      "cell_type": "code",
      "source": [
        "print(arr[-1])  # Output: 50\n"
      ],
      "metadata": {
        "id": "X7eS4pVlQgLL"
      },
      "execution_count": null,
      "outputs": []
    },
    {
      "cell_type": "markdown",
      "source": [
        "# Slicing\n",
        "Slicing allows you to access a range of elements:"
      ],
      "metadata": {
        "id": "ZXWfZftSQjC4"
      }
    },
    {
      "cell_type": "markdown",
      "source": [
        "1D Slicing"
      ],
      "metadata": {
        "id": "SJod6_YRRWZP"
      }
    },
    {
      "cell_type": "code",
      "source": [
        "arr_1D = np.array([1,2,3,4])\n",
        "slicing = arr_1D[1:3] #will give elements from index 1 to 3-1 = 2\n",
        "print(slicing)"
      ],
      "metadata": {
        "colab": {
          "base_uri": "https://localhost:8080/"
        },
        "id": "MoMrO9Z-RZ8D",
        "outputId": "641fc449-d488-4952-d74b-c4acc0b75c98"
      },
      "execution_count": null,
      "outputs": [
        {
          "output_type": "stream",
          "name": "stdout",
          "text": [
            "[2 3]\n"
          ]
        }
      ]
    },
    {
      "cell_type": "markdown",
      "source": [
        "2D Slicing:"
      ],
      "metadata": {
        "id": "rbhnhstJSMKq"
      }
    },
    {
      "cell_type": "code",
      "source": [
        "arr_2dimentional = np.array([[1,2,3],[4,5,6]])\n",
        "slicing_2D = arr_2dimentional[0:2,1:3]\n",
        "print(slicing_2D)"
      ],
      "metadata": {
        "colab": {
          "base_uri": "https://localhost:8080/"
        },
        "id": "5A0iLP2mSNaJ",
        "outputId": "c518ce31-40c8-4355-e6b2-d320fa0e1d28"
      },
      "execution_count": null,
      "outputs": [
        {
          "output_type": "stream",
          "name": "stdout",
          "text": [
            "[[2 3]\n",
            " [5 6]]\n"
          ]
        }
      ]
    },
    {
      "cell_type": "markdown",
      "source": [
        "Boolean Indexing\n",
        "Use a boolean mask to filter elements:"
      ],
      "metadata": {
        "id": "Ie_Al9ZLS_em"
      }
    },
    {
      "cell_type": "code",
      "source": [
        "arr02 = np.array([1, 2, 3, 4, 5])\n",
        "mask = arr02 > 2\n",
        "print(arr02[mask])  # Output: [3, 4, 5]"
      ],
      "metadata": {
        "id": "crz3z0olTAcS"
      },
      "execution_count": null,
      "outputs": []
    },
    {
      "cell_type": "markdown",
      "source": [
        "# Shape of an Array\n",
        "The shape of an array is the number of elements in each dimension."
      ],
      "metadata": {
        "id": "GO5WemEdetc-"
      }
    },
    {
      "cell_type": "code",
      "source": [
        "print(arr_2dimentional.shape) # this will print the tuple which containes the shap of array - 2 X 3"
      ],
      "metadata": {
        "colab": {
          "base_uri": "https://localhost:8080/"
        },
        "id": "c8yupfQRewsm",
        "outputId": "488c8b7e-473f-4081-af62-36f5525e2ef6"
      },
      "execution_count": null,
      "outputs": [
        {
          "output_type": "stream",
          "name": "stdout",
          "text": [
            "(2, 3)\n"
          ]
        }
      ]
    },
    {
      "cell_type": "markdown",
      "source": [
        "# Basic Operations on array\n",
        "Addition\n",
        "Subtraction\n",
        "multiplication\n",
        "divition"
      ],
      "metadata": {
        "id": "FMhXopPM7q7G"
      }
    },
    {
      "cell_type": "code",
      "source": [
        "arr1 = np.array([1,2])\n",
        "arr2 = np.array([3,4])\n",
        "print(arr1 + arr2) # will add two arrays - [4 6]\n",
        "print(arr1 - arr2) # will subtract two arrays - [-2 -2]\n",
        "print(arr1 * arr2) # will multiply two arrays - [3 8]\n",
        "print(arr1 / arr2) # will devid two arrays - divid two array -"
      ],
      "metadata": {
        "colab": {
          "base_uri": "https://localhost:8080/"
        },
        "id": "q78FXdsB75VB",
        "outputId": "71574068-f40f-4b89-a4e3-696a2ee9b1fd"
      },
      "execution_count": null,
      "outputs": [
        {
          "output_type": "stream",
          "name": "stdout",
          "text": [
            "[4 6]\n",
            "[-2 -2]\n",
            "[3 8]\n",
            "[0.33333333 0.5       ]\n"
          ]
        }
      ]
    },
    {
      "cell_type": "markdown",
      "source": [
        "Basic operations are simple with NumPy. If you want to find the sum of the elements in an array, you’d use sum(). This works for 1D arrays, 2D arrays, and arrays in higher dimensions."
      ],
      "metadata": {
        "id": "wck0u2pb9Yys"
      }
    },
    {
      "cell_type": "code",
      "source": [
        "a = np.array([1, 2, 3, 4])\n",
        "\n",
        "print(a.sum())"
      ],
      "metadata": {
        "id": "LUc-6SLX9Z1n"
      },
      "execution_count": null,
      "outputs": []
    },
    {
      "cell_type": "markdown",
      "source": [
        "To add the rows or the columns in a 2D array, you would specify the axis.\n",
        "\n",
        "If you start with this array:"
      ],
      "metadata": {
        "id": "8hufgzAg9xq1"
      }
    },
    {
      "cell_type": "code",
      "source": [
        "b = np.array([[1, 1], [2, 2]])\n",
        "print(b.sum(axis=0))  # Output: [3 3]\n",
        "print(b.sum(axis=1))  # output: [2,4]"
      ],
      "metadata": {
        "id": "HcUf9ZMH9ycb"
      },
      "execution_count": null,
      "outputs": []
    },
    {
      "cell_type": "markdown",
      "source": [
        "# Scalar multiplication\n",
        "You can multiply a scalar to vector"
      ],
      "metadata": {
        "id": "ITS1R4h8g8hF"
      }
    },
    {
      "cell_type": "code",
      "source": [
        "scalar = 2\n",
        "array001 = np.array([1,2])\n",
        "print(scalar * array001) # this will multiply each of the element in array with scalar value 2"
      ],
      "metadata": {
        "id": "4bVcKfD7hH8C"
      },
      "execution_count": null,
      "outputs": []
    },
    {
      "cell_type": "markdown",
      "source": [
        "# Dot product\n",
        "Multiply corresponding elements and sum them up. The result is a single number (scalar), not a vector.\n",
        "\n",
        "NumPy provides multiple ways:\n",
        "\n",
        "Option 1: np.dot()\n",
        "Option 2: @ operator (recommended for modern NumPy)\n",
        "Option 3: .dot() method"
      ],
      "metadata": {
        "id": "FBckqPjvhcPl"
      }
    },
    {
      "cell_type": "code",
      "source": [
        "#np.dot()\n",
        "ar01 = np.array([1,2])\n",
        "ar02 = np.array([3,4])\n",
        "dot_product = np.dot(ar01,ar02)\n",
        "print(dot_product)\n",
        "\n",
        "#@\n",
        "dot_product = ar01 @ ar02\n",
        "print(dot_product)\n",
        "\n",
        "#.dot()\n",
        "dot_product = ar01.dot(ar02)\n",
        "print(dot_product)"
      ],
      "metadata": {
        "id": "KJavcSFBh53L"
      },
      "execution_count": null,
      "outputs": []
    },
    {
      "cell_type": "markdown",
      "source": [
        "# More useful array operations\n",
        "This section covers maximum, minimum, sum, mean, product, standard deviation, and more\n",
        "\n",
        "NumPy also performs aggregation functions. In addition to min, max, and sum, you can easily run mean to get the average, prod to get the result of multiplying the elements together, std to get the standard deviation, and more."
      ],
      "metadata": {
        "id": "tsZ0X8niipz1"
      }
    },
    {
      "cell_type": "code",
      "source": [
        "SampleArray = np.array([1,2,3,4,5,6])\n",
        "print(SampleArray.max()) #will return max value of array - 6\n",
        "print(SampleArray.min()) #will return minimum value of array - 1\n",
        "print(SampleArray.sum()) #will return sum of the value of array - 21\n",
        "print(SampleArray.mean()) #will return average of the array - 3.5\n",
        "print(SampleArray.std()) #will return standerd deviation of the array"
      ],
      "metadata": {
        "colab": {
          "base_uri": "https://localhost:8080/"
        },
        "id": "DfEoPkYMnFJH",
        "outputId": "70fed299-38a9-4806-f117-16b3b03f6201"
      },
      "execution_count": null,
      "outputs": [
        {
          "output_type": "stream",
          "name": "stdout",
          "text": [
            "6\n",
            "1\n",
            "21\n",
            "3.5\n",
            "1.707825127659933\n"
          ]
        }
      ]
    }
  ]
}